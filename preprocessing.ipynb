{
 "cells": [
  {
   "cell_type": "code",
   "execution_count": 1,
   "id": "initial_id",
   "metadata": {
    "collapsed": true,
    "ExecuteTime": {
     "end_time": "2024-04-18T23:12:19.897623Z",
     "start_time": "2024-04-18T23:12:18.678737Z"
    }
   },
   "outputs": [],
   "source": [
    "from PIL import Image, ImageChops\n",
    "import numpy as np\n",
    "import pandas as pd\n",
    "import matplotlib.pyplot as plt\n",
    "import os\n"
   ]
  },
  {
   "cell_type": "code",
   "execution_count": 2,
   "outputs": [],
   "source": [
    "X_train = pd.read_csv('./data/train_x.csv')\n",
    "X_test = pd.read_csv('./data/test_x.csv')\n",
    "y_train = pd.read_csv('./data/train_y.csv')\n",
    "y_test = pd.read_csv('./data/test_y.csv')"
   ],
   "metadata": {
    "collapsed": false,
    "ExecuteTime": {
     "end_time": "2024-04-18T23:13:20.274283Z",
     "start_time": "2024-04-18T23:12:24.044672Z"
    }
   },
   "id": "5700b9dcc9ea229e"
  },
  {
   "cell_type": "code",
   "execution_count": 15,
   "outputs": [],
   "source": [
    "target_size = (24, 24)\n",
    "\n",
    "def trim(image, idx):\n",
    "    im = Image.fromarray(pd.Series(image).values.reshape((64,64)).astype(np.uint8))\n",
    "    bg = Image.new(im.mode, im.size, im.getpixel((0,0)))\n",
    "    diff = ImageChops.difference(im.convert('L'), bg.convert('L'))\n",
    "    diff = ImageChops.add(diff, diff, 2.0, -50)\n",
    "    bbox = diff.getbbox()\n",
    "    if bbox:\n",
    "        resized = pd.Series(np.array(im.crop(bbox).resize(target_size)).flatten())\n",
    "        return resized\n",
    "    else:\n",
    "        print(f'CROPPING FAILED FOR INDEX: {idx}')\n",
    "        im = Image.fromarray(pd.Series(image).values.reshape((64,64)).astype(np.uint8))\n",
    "        resized = pd.Series(np.array(im.resize(target_size)).flatten())\n",
    "        return resized"
   ],
   "metadata": {
    "collapsed": false,
    "ExecuteTime": {
     "end_time": "2024-04-18T23:18:30.264841Z",
     "start_time": "2024-04-18T23:18:30.256606Z"
    }
   },
   "id": "db2d725606e803d8"
  },
  {
   "cell_type": "code",
   "execution_count": 45,
   "outputs": [],
   "source": [
    "# create new datasets of whitespace cropped images\n",
    "\n",
    "for dataset in [(X_train, 'train_x'), (X_test, 'test_x')]:\n",
    "    for idx, row in enumerate(dataset[0].itertuples(index=False)):\n",
    "        with open(f'./data/preprocessing/{dataset[1]}_{target_size[0]}x{target_size[1]}.csv', 'a') as f:\n",
    "            x = trim(row, idx) \n",
    "            df = pd.DataFrame([x])\n",
    "            df.to_csv(f, mode='a', header=False, index=False)"
   ],
   "metadata": {
    "collapsed": false,
    "ExecuteTime": {
     "end_time": "2024-04-18T23:52:22.406850Z",
     "start_time": "2024-04-18T23:34:03.722667Z"
    }
   },
   "id": "2efc1bfcca618464"
  },
  {
   "cell_type": "code",
   "execution_count": 43,
   "outputs": [
    {
     "data": {
      "text/plain": "<Figure size 800x400 with 2 Axes>",
      "image/png": "[encoded data removed]"
     },
     "metadata": {},
     "output_type": "display_data"
    }
   ],
   "source": [
    "# testing the whitespace and cropping\n",
    "\n",
    "idx = 49000\n",
    "\n",
    "img_dir = f'./images/preprocessing/{target_size[0]}x{target_size[1]}'\n",
    "plot_dir = f'./images/whitespace_cropping'\n",
    "\n",
    "os.makedirs(img_dir, exist_ok=True)\n",
    "\n",
    "im = X_train.iloc[idx].values\n",
    "im_before = Image.fromarray(pd.Series(im).values.reshape((64,64)).astype(np.uint8))\n",
    "im_before.save(img_dir + f'/{idx}_64x64_before.png', format='PNG')\n",
    "\n",
    "im = trim(im, idx)\n",
    "im = Image.fromarray(im.values.reshape(target_size))\n",
    "im.save(img_dir + f'/{idx}_{target_size[0]}x{target_size[1]}_after.png', format='PNG')\n",
    "\n",
    "# Create figure and axes for two subplots\n",
    "fig, axes = plt.subplots(1, 2, figsize=(8, 4))  # Width, Height\n",
    "\n",
    "# Show 'before' image\n",
    "axes[0].imshow(im_before, cmap=\"gray_r\")\n",
    "axes[0].set_title('BEFORE TRANSFORMATION')\n",
    "axes[0].axis('off')  # Hide the axes\n",
    "\n",
    "# Show 'after' image\n",
    "axes[1].imshow(im, cmap=\"gray_r\")\n",
    "axes[1].set_title('AFTER TRANSFORMATION')\n",
    "axes[1].axis('off')  # Hide the axes\n",
    "\n",
    "plt.show()\n",
    "fig.savefig(f'{plot_dir}/{idx}_64_to_{target_size[0]}_before_after.png', format='png', dpi=300)"
   ],
   "metadata": {
    "collapsed": false,
    "ExecuteTime": {
     "end_time": "2024-04-18T23:24:32.646286Z",
     "start_time": "2024-04-18T23:24:32.072061Z"
    }
   },
   "id": "3ed96425a6fc470e"
  }
 ],
 "metadata": {
  "kernelspec": {
   "display_name": "Python 3",
   "language": "python",
   "name": "python3"
  },
  "language_info": {
   "codemirror_mode": {
    "name": "ipython",
    "version": 2
   },
   "file_extension": ".py",
   "mimetype": "text/x-python",
   "name": "python",
   "nbconvert_exporter": "python",
   "pygments_lexer": "ipython2",
   "version": "2.7.6"
  }
 },
 "nbformat": 4,
 "nbformat_minor": 5
}
